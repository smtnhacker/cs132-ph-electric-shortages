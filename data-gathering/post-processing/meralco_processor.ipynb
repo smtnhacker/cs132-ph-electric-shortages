{
 "cells": [
  {
   "cell_type": "code",
   "execution_count": 50,
   "metadata": {},
   "outputs": [],
   "source": [
    "from datetime import datetime\n",
    "import pandas as pd\n",
    "\n",
    "ignore = [\n",
    "    \"September 29 - 30, 2021 - Quezon City (Novaliches)\",\n",
    "    \"December 3 - 4, 2023 - Bulacan (Do�a Remedios Trinidad and San Ildefonso)\",\n",
    "    \"December 3 - 4, 2023 - Quezon City (Balintawak and Baesa)\",\n",
    "    \"December 3 - 4, 2023 - Para�aque City (San Dionisio)\",\n",
    "    \"December 3 - 4, 2023 - Caloocan City (Bagong Barrio)\",\n",
    "]\n",
    "\n",
    "def process_meralco_file(file_path):\n",
    "    data = { 'date': [], 'location': [], 'type': [] }\n",
    "    df = pd.DataFrame(data)\n",
    "    try:\n",
    "        with open(file_path, 'r', encoding='utf-8') as f:\n",
    "            for line in f:\n",
    "                line.replace('�', '-')\n",
    "                date, rest = line.split(',', maxsplit=1)\n",
    "                if rest[-1] == '\\n':\n",
    "                    rest = rest[:-1]\n",
    "                if rest[-1] == '\"':\n",
    "                    rest = rest[:-1]\n",
    "                if rest[-1] == ' ':\n",
    "                    rest = rest[:-1]\n",
    "                if rest[0] == '\"':\n",
    "                    rest = rest[1:]\n",
    "                date = datetime.strptime(date, \"%Y-%m-%d\")\n",
    "\n",
    "                if rest in ignore and date < datetime(2023, 12, 3):\n",
    "                    continue\n",
    "\n",
    "                type = \"MERALCO\"\n",
    "                location = rest.split(\"-\")[-1]\n",
    "\n",
    "                row_df = pd.DataFrame([[date, location, type]], columns=df.columns)\n",
    "                df = pd.concat([row_df, df], ignore_index=True)\n",
    "    except Exception as e:\n",
    "        print(f\"Error processing {file_path}: {e}\")\n",
    "    return df"
   ]
  },
  {
   "cell_type": "code",
   "execution_count": 51,
   "metadata": {},
   "outputs": [],
   "source": [
    "meralco = process_meralco_file('meralco.txt')\n",
    "meralco\n",
    "meralco.to_csv('data.csv', index=False, header=False, mode='a')"
   ]
  },
  {
   "cell_type": "code",
   "execution_count": null,
   "metadata": {},
   "outputs": [],
   "source": []
  }
 ],
 "metadata": {
  "kernelspec": {
   "display_name": "Python 3",
   "language": "python",
   "name": "python3"
  },
  "language_info": {
   "codemirror_mode": {
    "name": "ipython",
    "version": 3
   },
   "file_extension": ".py",
   "mimetype": "text/x-python",
   "name": "python",
   "nbconvert_exporter": "python",
   "pygments_lexer": "ipython3",
   "version": "3.10.1"
  }
 },
 "nbformat": 4,
 "nbformat_minor": 2
}
