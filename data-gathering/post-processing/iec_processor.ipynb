{
 "cells": [
  {
   "cell_type": "code",
   "execution_count": 3,
   "metadata": {},
   "outputs": [],
   "source": [
    "from datetime import datetime\n",
    "import unicodedata\n",
    "import ast\n",
    "import emoji\n",
    "import pandas as pd\n",
    "import re\n",
    "\n",
    "def normalize_line(line: str):\n",
    "    try:\n",
    "        string = ast.literal_eval(line).decode()\n",
    "    except Exception:\n",
    "        string = ''\n",
    "    no_endline = string.replace('\\n', ' ')\n",
    "    no_unicode_letters = unicodedata.normalize('NFKC', no_endline)\n",
    "    no_emoji = emoji.replace_emoji(no_unicode_letters, replace='')\n",
    "\n",
    "    return no_emoji\n",
    "\n",
    "def try_regex(reg, string, todo):\n",
    "    res = reg.findall(string)\n",
    "    if len(res) > 0:\n",
    "        try:\n",
    "            return todo(res[0])\n",
    "        except Exception as e:\n",
    "            print(res, e)\n",
    "            return False\n",
    "    return False\n",
    "\n",
    "def process_iec_file(file_path):\n",
    "    data = { 'date': [], 'location': [], 'type': [] }\n",
    "    df = pd.DataFrame(data)\n",
    "\n",
    "    date_regex = re.compile(\"WHEN:.*\\, 202.,\")\n",
    "    location_regex = re.compile(\"AFFECTED AREA(?:\\(s\\))?: .* REASON\")\n",
    "    location_regex2 = re.compile(\"AFFECTED AREA(?:\\(s\\))?: .* Power \")\n",
    "    try:\n",
    "        with open(file_path, 'r') as f:\n",
    "            for line in f:\n",
    "                normalized = normalize_line(line)\n",
    "\n",
    "                if 'IEC Scheduled Power Interruption' not in normalized:\n",
    "                    continue\n",
    "                \n",
    "                # print(normalized)\n",
    "                try:\n",
    "                    date_str = try_regex(date_regex, normalized, lambda x: x[6:-1])\n",
    "                    if not date_str:\n",
    "                        date_str = try_regex(re.compile(\"WHEN: .* 202. -\"), normalized, lambda x: x[6:-2])\n",
    "                    if not date_str:\n",
    "                        date_str = try_regex(re.compile(\"November 9, 2022\"), normalized, lambda x: x)\n",
    "                    if not date_str:\n",
    "                        date_str = try_regex(re.compile(\"April 26, 2022\"), normalized, lambda x: x)\n",
    "                    if not date_str:\n",
    "                        date_str = try_regex(re.compile(\"August 10, 2021\"), normalized, lambda x: x)\n",
    "                    date = datetime.strptime(date_str, \"%B %d, %Y\")\n",
    "                except Exception as e:\n",
    "                    print(f\"Error getting date from {normalized}: {e}\")\n",
    "                    print(\"---\", date_str)\n",
    "                \n",
    "                try:\n",
    "                    location_str = try_regex(location_regex, normalized, lambda x: x)\n",
    "                    if not location_str:\n",
    "                        location_str = try_regex(location_regex2, normalized, lambda x: x)\n",
    "                    if not location_str:\n",
    "                        location_str = try_regex(re.compile(\"Salaban 1, Salaban 2, Salaban San Jose\"), normalized, lambda x: f'AFFECTED AREA: {x} Power ')\n",
    "\n",
    "                    if '(s)' in location_str:\n",
    "                        locations = [location_str[18:-6].strip()]\n",
    "                    else:\n",
    "                        locations = [location_str[15:-6].strip()]\n",
    "                    \n",
    "                    type = 'IEC'\n",
    "                    for location in locations:\n",
    "                        if not location.strip():\n",
    "                            continue\n",
    "                        row_df = pd.DataFrame([[date, location, type]], columns=df.columns)\n",
    "                        df = pd.concat([row_df, df], ignore_index=True)\n",
    "                except Exception as e:\n",
    "                    print(f\"Error getting location from {normalized}: {e}\")\n",
    "                    print(\"---\", location_str)\n",
    "\n",
    "    except Exception as e:\n",
    "        print(f\"Error processing {file_path}: {e}\")\n",
    "    return df"
   ]
  },
  {
   "cell_type": "code",
   "execution_count": 6,
   "metadata": {},
   "outputs": [
    {
     "name": "stdout",
     "output_type": "stream",
     "text": [
      "Error getting location from ANNOUNCEMENT  WHAT: IEC Scheduled Power Interruption WHEN:  April 26, 2022 – TUESDAY (Brgy. Bungahan) April 27, 2022 – WEDNESDAY (Brgy. Salaban SJ) April 28, 2022 – THURSDAY (Brgy. Balanga to TMC Farm) April 29, 2022 – FRIDAY (Brgy. Bago-KABILA Patalay Compound) TIME: 8:00 AM - 5:00 PM  April 30, 2022 – SATURDAY (Boundary ng BAGO at SABANG) TIME: 8:00 AM -12:00 NN  REASON: Vegetation Clearing  Power will be restored on or before the scheduled time without prior notice. Hoping for your understanding for the inconvenience that may cause you.: argument of type 'bool' is not iterable\n",
      "--- False\n"
     ]
    }
   ],
   "source": [
    "res = process_iec_file('ibaanelectric.txt')\n",
    "res.to_csv('data.csv', index=False, header=False, mode='a')"
   ]
  },
  {
   "cell_type": "code",
   "execution_count": null,
   "metadata": {},
   "outputs": [],
   "source": []
  }
 ],
 "metadata": {
  "kernelspec": {
   "display_name": "Python 3",
   "language": "python",
   "name": "python3"
  },
  "language_info": {
   "codemirror_mode": {
    "name": "ipython",
    "version": 3
   },
   "file_extension": ".py",
   "mimetype": "text/x-python",
   "name": "python",
   "nbconvert_exporter": "python",
   "pygments_lexer": "ipython3",
   "version": "3.10.1"
  }
 },
 "nbformat": 4,
 "nbformat_minor": 2
}
