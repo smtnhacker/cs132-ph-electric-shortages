{
 "cells": [
  {
   "cell_type": "code",
   "execution_count": 6,
   "metadata": {},
   "outputs": [],
   "source": [
    "from datetime import datetime\n",
    "import unicodedata\n",
    "import ast\n",
    "import emoji\n",
    "import pandas as pd\n",
    "import re\n",
    "\n",
    "def normalize_line(line: str):\n",
    "    try:\n",
    "        string = ast.literal_eval(line).decode()\n",
    "    except Exception:\n",
    "        string = ''\n",
    "    no_endline = string.replace('\\n', ' ')\n",
    "    no_unicode_letters = unicodedata.normalize('NFKC', no_endline)\n",
    "    no_emoji = emoji.replace_emoji(no_unicode_letters, replace='')\n",
    "\n",
    "    return no_emoji\n",
    "\n",
    "def process_panelco3_file(file_path):\n",
    "    data = { 'date': [], 'location': [], 'type': [] }\n",
    "    df = pd.DataFrame(data)\n",
    "\n",
    "    date_regex = re.compile('DATE: .* TIME')\n",
    "    location_regex = re.compile('AFFECTED AREAS?: .*All works')\n",
    "    try:\n",
    "        with open(file_path, 'r') as f:\n",
    "            for line in f:\n",
    "                normalized = normalize_line(line)\n",
    "\n",
    "                if 'NOTICE OF SCHEDULED POWER INTERRUPTION' not in normalized:\n",
    "                    continue\n",
    "\n",
    "                try:\n",
    "                    date_str = date_regex.findall(normalized)[0]\n",
    "                    _, date = date_str.split(': ', maxsplit=1)\n",
    "                    date = date.split('(', maxsplit=1)[0].strip()\n",
    "                    date = datetime.strptime(date, \"%B %d, %Y\")\n",
    "                except Exception as e:\n",
    "                    print(f\"Error getting date from {normalized}: {e}\")\n",
    "                \n",
    "                try:\n",
    "                    location_str = location_regex.findall(normalized)[0][15:-9].strip()\n",
    "                    if ';' in location_str:\n",
    "                        tlocations = location_str.split(';')\n",
    "                        locations = []\n",
    "                        for location in tlocations:\n",
    "                            locations += location.split(',')\n",
    "                    else:\n",
    "                        locations = location_str.split(',')\n",
    "                    \n",
    "                    type = 'PANELCO3'\n",
    "\n",
    "                    for location in locations:\n",
    "                        row_df = pd.DataFrame([[date, location, type]], columns=df.columns)\n",
    "                        df = pd.concat([row_df, df], ignore_index=True)\n",
    "\n",
    "                except Exception as e:\n",
    "                    print(f\"Error getting location from {normalized}: {e}\")\n",
    "\n",
    "    except Exception as e:\n",
    "        print(f\"Error processing {file_path}: {e}\")\n",
    "    return df"
   ]
  },
  {
   "cell_type": "code",
   "execution_count": 7,
   "metadata": {},
   "outputs": [
    {
     "name": "stdout",
     "output_type": "stream",
     "text": [
      "Error getting location from NOTICE OF SCHEDULED POWER INTERRUPTION BY THE NATIONAL GRID CORPORATION OF THE PHILIPPINES (NGCP)  DATE: April 6, 2024 (Saturday)  TIME: 6:00AM - 6:00PM  PURPOSE: National Grid Corporation of the Philippines (NGCP) to implement the following activities: 1. Upgrading projects in San Manuel Substation; 2. Preventive Maintenance and correction of defects along the line  AFFECTED AREAS:  URDANETA CITY - Brgys. Anonas, Cabaruan, Camantiles, Catablan, Cayambanan, Dilan-Paurido, Labit West, Labit Proper, Mabanogbog, Nancalobasaan, Nancamaliran East, Nancamaliran West, Oltama, Pinmaludpod, Poblacion, San Jose, San Vicente, Sugcong, Tulong and part of Brgy. Nancayasan (Gracia Village);  ASINGAN - Brgys. Bobonan, Calepaan, Coldit, Palaris, Sobol, Toboy;  BINALONAN - Entire Municipality; LAOAC - Entire Municipality; MANAOAG - Brgy. Inamotan; MAPANDAN - Entire Municipality; POZORRUBIO - Entire Municipality; SAN MANUEL - Entire Municipality except Brgys. San Juan, San Vicente (Sitios An-anonas, Bato & Pao) VILLASIS - Brgy. La Paz  NGCP may energize the lines earlier than or as scheduled, so please consider all lines and equipment energized at all times. We sincerely apologize for any inconvenience brought by the said power interruption.: list index out of range\n",
      "Error getting location from NOTICE OF SCHEDULED POWER INTERRUPTION BY THE NATIONAL GRID CORPORATION OF THE PHILIPPINES (NGCP)  DATE: January 7, 2024 (Sunday)  TIME: A. 06:00AM - 06:30AM & 11:30AM - 12:00NN           B. 06:00AM - 12:00NN  PURPOSE: National Grid Corporation of the Philippines (NGCP) to conduct the following  activities:  A. De-energization of line to implement the isolation of Tomana-Libertad 69kV Line Segment (L/S) and Libertad-Umingan 69kV L/S and de-energization of line to implement normalization of Tomana-Libertad 69kV L/S and Libertad-Umingan 69kV L/S after relocation of structure   B. To implement relocation of structure #038 of Tomana-Libertad 69kV L/S as per request of the Municipal Mayor of Rosales, Pangasinan  PURPOSE: A. URDANETA CITY - Brgys. Bactad East, Bayaoas, Bolaoen, Cabuloan, Camanang, Casantaan, Consolacion, Dilan-Paurido, Macalong, Nancayasan, Palina East, Palina West, Poblacion (Magic Mall & Urdaneta City Cultural & Sports Complex), PT Orata, San Jose, Sta. Lucia, Sto. Domingo and Tipuso;    ASINGAN - Entire Municipality (except Bobonan, Calepaan, Coldit, Palaris, Sobol, Toboy);    SAN MANUEL - San Juan, San Vicente (Sitio An-anonas, Sitio Bato and Sitio Pao);    Entire Municipality of BALUNGAO;    Entire Municipality of ROSALES;    Entire Municipality of STO. TOMAS;    Entire Municipality of VILLASIS;  B. Entire Municipality of NATIVIDAD;     Entire Municipality of SAN NICOLAS;     Entire Municipality of SAN QUINTIN;     Entire Municipality of STA. MARIA;     Entire Municipality of TAYUG;     Entire Municipality of UMINGAN  NGCP may energize the lines earlier or as scheduled, so please consider all lines and equipment energized at all times for safety precaution.: list index out of range\n",
      "Error getting location from NOTICE OF SCHEDULED POWER INTERRUPTION BY THE NATIONAL GRID CORPORATION OF THE PHILIPPINES (NGCP)  DATE: December 17, 2023 (Sunday)  TIME: 06:00AM - 06:00PM  PURPOSE: National Grid Corporation of the Philippines (NGCP) to conduct the following activities:      a. Electrical and general maintenance of high voltage equipment at Nagsaag Substation;      b. TL maintenance along Nagsaag - Umingan 69kV Line;      c. Integrity, comprehensive and functional testing of relay protections at Nagsaag Substation;      d. Electrical and general maintenance of high voltage equipment at Umingan LE Substation;      e. Tapping of re-routed portion of Tomana - Ketegan 69kV Line segment along SUPIMA Holdings property  AFFECTED AREAS: URDANETA CITY - Brgys. Bactad East, Bayaoas, Bolaoen, Cabuloan, Camanang, Casantaan, Consolacion, Dilan-Paurido, Macalong, Nancayasan, Palina East, Palina West, Poblacion (Magic Mall & Urdaneta City Cultural & Sports Complex), PT Orata, Sta. Lucia, Sto. Domingo and Tipuso;  ASINGAN - Entire Municpality (except Brgys. Bobonan, Calepaan, Coldit, Palaris, Sobol, Toboy);  SAN MANUEL - Brgys. San Juan, San Vicente (Sitio An-anonas, Sitio Bato and Sitio Pao);  BALUNGAO      -  Entire Municipality; NATIVIDAD       - Entire Municipality; ROSALES           - Entire Municipality; SAN NICOLAS   - Entire Municipality; SAN QUINTIN   - Entire Municipality; STA. MARIA       - Entire Municipality; STO. TOMAS      - Entire Municipality; TAYUG                - Entire Municipality; UMINGAN          - Entire Municipality; VILLASIS             - Entire Municipality  NGCP may energize the lines earlier than or as scheduled, so please consider all lines and equipment energized at all times for safety precaution.: list index out of range\n",
      "Error getting location from NOTICE OF SCHEDULED POWER INTERRUPTION  DATE: November 11, 2023 (Saturday)  TIME:  A. 8:00AM - 5:00PM B. 8:00AM - 12:00NN  PURPOSE:  A. To facilitate rehabilitation of Three Phase line along Brgy. Acop, Rosales; B. 1. To facilitate erection of intermediate pole at Mabini St., Poblacion Zone 2, Rosales (ALFAMART);     2. To facilitate Right of Way Clearing along affected line section  All works maybe finished ahead of time and power maybe restored earlier than or as scheduled, so please consider all lines and equipment energized at all times.: list index out of range\n",
      "Error getting location from NOTICE OF SCHEDULED POWER INTERRUPTION BY THE NATIONAL GRID CORPORATION OF THE PHILIPPINES (NGCP)  DATE: September 3, 2023 (Sunday)  TIME: 6:00AM - 6:30AM & 5:30PM - 6:00PM  PURPOSE: National Grid Corporation of the Philippines (NGCP) to implement the following activities: 1. To conduct load shifting from 300MVA T02 to 100MVA T01 to implement corrective works at San Manuel Substation; 2. To conduct load shifting from 100MVA T01 back to 300MVA T02  AFFECTED AREAS: URDANETA CITY - Brgys. Anonas, Cabaruan, Camantiles, Catablan, Cayambanan, Dilan-Paurido, Labit West, Labit Proper, Mabanogbog, Nancalobasaan, Nancamaliran East, Nancamaliran West, Oltama, Pinmaludpod, Poblacion, San Jose, San Vicente, Sugcong, Tulong and part of Brgy. Nancayasan (Gracia Village);  ASINGAN - Brgys. Bobonan, Calepaan, Coldit, Palaris, Sobol, Toboy;  BINALONAN - Entire Municipality; LAOAC - Entire Municipality; MANAOAG - Brgy. Inamotan; MAPANDAN - Entire Municipality; POZORRUBIO - Entire Municipality; SAN MANUEL - Entire Municipality except Brgys. San Juan, San Vicente (Sitios An-anonas, Bato & Pao) VILLASIS - Brgy. La Paz  NGCP may energize the lines earlier than or as scheduled, so please  consider all lines and equipment energized at all times for safety precaution.: list index out of range\n",
      "Error getting date from NOTICE OF SCHEDULED POWER INTERRUPTION  DATE: August 5, 2023   TIME: 8:00AM - 5:00PM  PURPOSE: Right of Way Clearing  AFFECTED AREAS: UMINGAN - Brgys. Barat and part of Brgy. Nancalabasaan  All works maybe finished ahead of time and power maybe restored earlier than or as scheduled, so please consider all lines and equipment energized at all times.: unconverted data remains:    TIME\n",
      "Error getting date from NOTICE OF SCHEDULED POWER INTERRUPTION  DATE:  A. 8:00AM - 8:15AM & 4:30PM - 5:00PM B. 8:00AM - 5:00PM  PURPOSE: A. To facilitate the safe closing/opening of Disconnect Switch along San Leon, Balungao (transfer of source to Umingan Substation);  B. 1. To facilitate preventive maintenance services of Tomana 15MVA S/S (correction of hotspots);     2. To facilitate the installation of intermediate pole for Quadruple Circuit (long span, sagging) of Tomana Substation;     3. To facilitate line rehabilitation along Poblacion West to La Luna, Sto. Tomas;     4. Right of way clearing activity along affected sections  AFFECTED AREAS: A. BALUNGAO - Entire Muncipality except Brgy. San Marcelino; B. ROSALES - Entire Municipality except Brgys. Carmen East and Carmen West (Mc Arthur Highway), San Vicente;     STO. TOMAS - Entire Municipality  All works maybe finished ahead of time and power maybe restored earlier than or as scheduled, so please consider all lines and equipment energized at all times.: list index out of range\n",
      "Error getting location from NOTICE OF SCHEDULED POWER INTERRUPTION BY THE NATIONAL GRID CORPORATION OF THE PHILIPPINES (NGCP)  DATE: June 25, 2023 (Sunday)  TIME: 6:00AM - 6:00PM  PURPOSE: National Grid Corporation of the Philippines (NGCP) to implement the following activities: 1. Upgrading projects in San Manuel Substation; 2. Transfer of 69kV feeder loads from 100MVA T01 to new 300MVA T02  AFFECTED AREAS: URDANETA CITY - Brgys. Anonas, Cabaruan, Camantiles, Catablan, Cayambanan, Dilan-Paurido, Labit West, Labit Proper, Mabanogbog, Nancalobasaan, Nancamaliran East, Nancamaliran West, Oltama, Pinmaludpod, Poblacion, San Jose, San Vicente, Sugcong, Tulong and part of Brgy. Nancayasan (Gracia Village); ASINGAN - Brgys. Bobonan, Calepaan, Coldit, Palaris, Sobol, Toboy; BINALONAN - Entire Municipality; LAOAC - Entire Municipality; MANAOAG - Brgy. Inamotan; MAPANDAN - Entire Municipality; POZORRUBIO - Entire Municipality; SAN MANUEL - Entire Municipality except Brgys. San Juan, San Vicente (Sitios An-anonas, Bato & Pao) VILLASIS - Brgy. La Paz  NGCP may energize the lines earlier than or as scheduled, so please consider all lines and equipment energized at all times for safety precaution.: list index out of range\n",
      "Error getting location from NOTICE OF SCHEDULED POWER INTERRUPTION BY THE NATIONAL GRID CORPORATION OF THE PHILIPPINES (NGCP)  DATE: August 24, 2022 (Wednesday)  TIME: 6:00AM - 7:30AM  PURPOSE: To conduct correction works along Tomana - Libertad 69kV line segment of Nagsaag - Umingan 69kV line   AFFECTED AREAS: URDANETA CITY - Bactad East, Bayaoas, Bolaoen, Cabaruan, Cabuloan, Camanang, Casantaan, Consolacion, Macalong, Nancayasan, Palina East, Palina West, PT Orata, Sta. Lucia, Sto. Domingo, Tipuso and part of Brgy. Dilan-Paurido; ASINGAN - Entire Municipality (except Bobonan, Calepaan, Coldit, Palaris, Sobol, Toboy); SAN MANUEL - San Juan, San Vicente (Sitio An-anonas, Sitio Bato and Sitio Pao)  Entire Municipality of BALUNGAO; Entire Municipality of NATIVIDAD; Entire Municipality of ROSALES; Entire Municipality of SAN NICOLAS; Entire Municipality of SAN QUINTIN; Entire Municipality of STA. MARIA; Entire Municipality of STO. TOMAS; Entire Municipality of TAYUG; Entire Municipality of UMINGAN; Entire Municipality of VILLASIS   NGCP may energize the lines earlier than or as scheduled, so please consider all lines and equipment energized at all times for safety precaution.: list index out of range\n",
      "Error getting location from NOTICE OF SCHEDULED POWER INTERRUPTION   DATE: August 6, 2022 (Saturday)  TIME: 8:00AM - 5:00PM  PURPOSE: To facilitate pay-out of secondary line and relocation of kWh meters to newly replaced distribution pole along Pugaro, Balungao   AFFECTED AREAS. BALUNGAO - part of Brgy. Pugaro   All works maybe finished ahead of time and power maybe restored earlier than or as scheduled, so please consider all lines and equipment energized at all times.: list index out of range\n",
      "Error getting location from NOTICE OF SCHEDULED POWER INTERRUPTION   DATE: April 27, 2022 (Wednesday)   TIME: 8:00AM - 5:00PM  PURPOSE:  1. To facilitate the repair and transfer of load of Feeder 63 (Sta. Maria) to Feeder 64 of Barangobong 10MVA Substation;   2. Correction of Technical Punchlist;  3. Right of Way Clearing Activity   We sincerely apologize for any inconvenience brought by the said power interruption. All works maybe finished ahead of time and power maybe restored earlier than or as scheduled, so please consider all lines and equipment energized at all times.: list index out of range\n",
      "Error getting location from NOTICE OF SCHEDULED POWER INTERRUPTION   DATE: February 19, 2022 (Saturday)  TIME:  A. 8:00AM - 5:00PM B. 8:00AM - 5:00PM  PURPOSE: A. Pay-out insulated primary line installation of pole support;  B. To facilitate the rotten pole replacement in Luyan, Mapandan   We sincerely apologize for any inconvenience brought by the said power interruption. All works maybe finished ahead of time and power maybe restored earlier than or as scheduled, so please consider all lines and equipment energized at all times.: list index out of range\n"
     ]
    }
   ],
   "source": [
    "res = process_panelco3_file('panelco3official.txt')\n",
    "res\n",
    "res.to_csv('data.csv', header=False, index=False, mode='a')"
   ]
  },
  {
   "cell_type": "code",
   "execution_count": null,
   "metadata": {},
   "outputs": [],
   "source": []
  }
 ],
 "metadata": {
  "kernelspec": {
   "display_name": "Python 3",
   "language": "python",
   "name": "python3"
  },
  "language_info": {
   "codemirror_mode": {
    "name": "ipython",
    "version": 3
   },
   "file_extension": ".py",
   "mimetype": "text/x-python",
   "name": "python",
   "nbconvert_exporter": "python",
   "pygments_lexer": "ipython3",
   "version": "3.10.1"
  }
 },
 "nbformat": 4,
 "nbformat_minor": 2
}
