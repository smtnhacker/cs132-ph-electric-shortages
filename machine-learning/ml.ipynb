{
 "cells": [
  {
   "cell_type": "code",
   "execution_count": 1,
   "metadata": {},
   "outputs": [
    {
     "name": "stdout",
     "output_type": "stream",
     "text": [
      "   year  month  num_outages  type_ALECO  type_BATANELCO  type_IEC  \\\n",
      "0  2018      4            1       False           False     False   \n",
      "1  2018      5          103       False           False     False   \n",
      "2  2018      6          122       False           False     False   \n",
      "3  2018      7          137       False           False     False   \n",
      "4  2018      8          103       False           False     False   \n",
      "\n",
      "   type_ISELCOII  type_MASELCO  type_MERALCO  type_OEDC  type_PANELCO3  \\\n",
      "0          False         False          True      False          False   \n",
      "1          False         False          True      False          False   \n",
      "2          False         False          True      False          False   \n",
      "3          False         False          True      False          False   \n",
      "4          False         False          True      False          False   \n",
      "\n",
      "   class_Private  class_Public  \n",
      "0           True         False  \n",
      "1           True         False  \n",
      "2           True         False  \n",
      "3           True         False  \n",
      "4           True         False  \n"
     ]
    }
   ],
   "source": [
    "import pandas as pd\n",
    "\n",
    "# Load data\n",
    "data = pd.read_csv('https://raw.githubusercontent.com/smtnhacker/cs132-ph-electric-shortages/main/exploratory-data-analysis/data.csv')\n",
    "\n",
    "# Parse the date and create new features\n",
    "data['date'] = pd.to_datetime(data['date'], format='%m/%d/%Y')\n",
    "data['month'] = data['date'].dt.month\n",
    "data['year'] = data['date'].dt.year\n",
    "\n",
    "# Aggregate the data to count outages per month, type, and class\n",
    "aggregated_data = data.groupby(['year', 'month', 'type', 'class']).size().reset_index(name='num_outages')\n",
    "\n",
    "# One-hot encode categorical variables\n",
    "aggregated_data = pd.get_dummies(aggregated_data, columns=['type', 'class'])\n",
    "\n",
    "# Display the processed dataframe\n",
    "print(aggregated_data.head())"
   ]
  },
  {
   "cell_type": "code",
   "execution_count": 2,
   "metadata": {},
   "outputs": [
    {
     "data": {
      "image/png": "[encoded data removed]",
      "text/plain": [
       "<Figure size 1000x500 with 1 Axes>"
      ]
     },
     "metadata": {},
     "output_type": "display_data"
    }
   ],
   "source": [
    "import matplotlib.pyplot as plt\n",
    "\n",
    "# Plot the distribution of outages by month\n",
    "plt.figure(figsize=(10, 5))\n",
    "data['month'].value_counts().sort_index().plot(kind='bar')\n",
    "plt.title('Distribution of Outages by Month')\n",
    "plt.xlabel('Month')\n",
    "plt.ylabel('Number of Outages')\n",
    "plt.show()\n"
   ]
  },
  {
   "cell_type": "code",
   "execution_count": 3,
   "metadata": {},
   "outputs": [],
   "source": [
    "# Define features and target\n",
    "X = aggregated_data.drop(columns=['num_outages'])\n",
    "y = aggregated_data['num_outages']\n",
    "\n",
    "# Split the data\n",
    "from sklearn.model_selection import train_test_split\n",
    "X_train, X_test, y_train, y_test = train_test_split(X, y, test_size=0.2, random_state=42)"
   ]
  },
  {
   "cell_type": "code",
   "execution_count": 4,
   "metadata": {},
   "outputs": [
    {
     "name": "stdout",
     "output_type": "stream",
     "text": [
      "Mean Absolute Error: 13.809761904761903\n",
      "Mean Squared Error: 398.8735309523809\n",
      "Root Mean Squared Error: 19.97181841877151\n"
     ]
    }
   ],
   "source": [
    "from sklearn.ensemble import RandomForestRegressor\n",
    "from sklearn.model_selection import GridSearchCV\n",
    "\n",
    "# Train a Random Forest Regressor\n",
    "rf_regressor = RandomForestRegressor(n_estimators=100, random_state=42)\n",
    "rf_regressor.fit(X_train, y_train)\n",
    "\n",
    "from sklearn.metrics import mean_absolute_error, mean_squared_error\n",
    "\n",
    "# Predict on the test set\n",
    "y_pred = rf_regressor.predict(X_test)\n",
    "\n",
    "# Evaluate the model\n",
    "mae = mean_absolute_error(y_test, y_pred)\n",
    "mse = mean_squared_error(y_test, y_pred)\n",
    "rmse = mse ** 0.5\n",
    "\n",
    "# acc_score = accuracy_score(y_test, y_pred)\n",
    "\n",
    "# # Define the parameter grid\n",
    "# param_grid = {\n",
    "#     'n_estimators': [50, 100, 200],\n",
    "#     'max_depth': [None, 10, 20, 30],\n",
    "#     'min_samples_split': [2, 5, 10]\n",
    "# }\n",
    "\n",
    "# # Initialize GridSearchCV\n",
    "# grid_search = GridSearchCV(rf_regressor, param_grid, cv=5, scoring='neg_mean_absolute_error')\n",
    "\n",
    "# # Fit GridSearchCV\n",
    "# grid_search.fit(X_train, y_train)\n",
    "\n",
    "# # Get the best parameters\n",
    "# best_params = grid_search.best_params_\n",
    "# print(f'Best Parameters: {best_params}')\n",
    "\n",
    "# # Train the best model\n",
    "# best_rf_regressor = grid_search.best_estimator_\n",
    "# y_pred_best_rf = best_rf_regressor.predict(X_test)\n",
    "\n",
    "# # Evaluate the best model\n",
    "# mae_best = mean_absolute_error(y_test, y_pred_best_rf)\n",
    "# mse_best = mean_squared_error(y_test, y_pred_best_rf)\n",
    "# rmse_best = mse_best ** 0.5\n",
    "\n",
    "print(f'Mean Absolute Error: {mae}')\n",
    "print(f'Mean Squared Error: {mse}')\n",
    "print(f'Root Mean Squared Error: {rmse}')"
   ]
  },
  {
   "cell_type": "code",
   "execution_count": 5,
   "metadata": {},
   "outputs": [
    {
     "name": "stdout",
     "output_type": "stream",
     "text": [
      "Predicted number of outages: 20.45\n"
     ]
    }
   ],
   "source": [
    "# Example input for prediction\n",
    "input_data = {\n",
    "    'year': [2026],\n",
    "    'month': [4],\n",
    "    'type_MERALCO': [1],\n",
    "    'type_AnotherType': [0],\n",
    "    'class_Public': [0],\n",
    "    'class_Private': [1]\n",
    "}\n",
    "input_df = pd.DataFrame(input_data)\n",
    "\n",
    "# Ensure all necessary columns are present\n",
    "for col in X.columns:\n",
    "    if col not in input_df.columns:\n",
    "        input_df[col] = 0  # Fill missing columns with 0\n",
    "\n",
    "# Ensure the columns are in the same order\n",
    "input_df = input_df[X.columns]\n",
    "\n",
    "# Predict\n",
    "predicted_num_outages = rf_regressor.predict(input_df)\n",
    "print(f'Predicted number of outages: {predicted_num_outages[0]}')\n"
   ]
  },
  {
   "cell_type": "code",
   "execution_count": null,
   "metadata": {},
   "outputs": [],
   "source": []
  }
 ],
 "metadata": {
  "kernelspec": {
   "display_name": "Python 3 (ipykernel)",
   "language": "python",
   "name": "python3"
  },
  "language_info": {
   "codemirror_mode": {
    "name": "ipython",
    "version": 3
   },
   "file_extension": ".py",
   "mimetype": "text/x-python",
   "name": "python",
   "nbconvert_exporter": "python",
   "pygments_lexer": "ipython3",
   "version": "3.11.7"
  }
 },
 "nbformat": 4,
 "nbformat_minor": 4
}
